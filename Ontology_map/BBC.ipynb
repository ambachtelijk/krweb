{
 "cells": [
  {
   "cell_type": "markdown",
   "id": "b091b659",
   "metadata": {},
   "source": [
    "# Detecting narrative Perspectives\n",
    "\n",
    "TO ADD: INFO"
   ]
  },
  {
   "cell_type": "code",
   "execution_count": 1,
   "id": "cb921392",
   "metadata": {},
   "outputs": [
    {
     "name": "stdout",
     "output_type": "stream",
     "text": [
      "Requirement already satisfied: rdflib in /Library/Frameworks/Python.framework/Versions/3.11/lib/python3.11/site-packages (6.2.0)\n",
      "Requirement already satisfied: owlready2 in /Library/Frameworks/Python.framework/Versions/3.11/lib/python3.11/site-packages (0.40)\n",
      "Requirement already satisfied: pandas in /Library/Frameworks/Python.framework/Versions/3.11/lib/python3.11/site-packages (1.5.3)\n",
      "Requirement already satisfied: isodate in /Library/Frameworks/Python.framework/Versions/3.11/lib/python3.11/site-packages (from rdflib) (0.6.1)\n",
      "Requirement already satisfied: pyparsing in /Library/Frameworks/Python.framework/Versions/3.11/lib/python3.11/site-packages (from rdflib) (3.0.9)\n",
      "Requirement already satisfied: setuptools in /Library/Frameworks/Python.framework/Versions/3.11/lib/python3.11/site-packages (from rdflib) (65.5.0)\n",
      "Requirement already satisfied: python-dateutil>=2.8.1 in /Library/Frameworks/Python.framework/Versions/3.11/lib/python3.11/site-packages (from pandas) (2.8.2)\n",
      "Requirement already satisfied: pytz>=2020.1 in /Library/Frameworks/Python.framework/Versions/3.11/lib/python3.11/site-packages (from pandas) (2022.7.1)\n",
      "Requirement already satisfied: numpy>=1.21.0 in /Library/Frameworks/Python.framework/Versions/3.11/lib/python3.11/site-packages (from pandas) (1.24.2)\n",
      "Requirement already satisfied: six>=1.5 in /Library/Frameworks/Python.framework/Versions/3.11/lib/python3.11/site-packages (from python-dateutil>=2.8.1->pandas) (1.16.0)\n",
      "\n",
      "\u001b[1m[\u001b[0m\u001b[34;49mnotice\u001b[0m\u001b[1;39;49m]\u001b[0m\u001b[39;49m A new release of pip is available: \u001b[0m\u001b[31;49m23.0\u001b[0m\u001b[39;49m -> \u001b[0m\u001b[32;49m23.0.1\u001b[0m\n",
      "\u001b[1m[\u001b[0m\u001b[34;49mnotice\u001b[0m\u001b[1;39;49m]\u001b[0m\u001b[39;49m To update, run: \u001b[0m\u001b[32;49mpip install --upgrade pip\u001b[0m\n"
     ]
    },
    {
     "name": "stderr",
     "output_type": "stream",
     "text": [
      "* Owlready2 * Warning: optimized Cython parser module 'owlready2_optimized' is not available, defaulting to slower Python implementation\n"
     ]
    }
   ],
   "source": [
    "## Uncomment if you do not have owlrl installed (you should have it installed from the RDFS tutorial)\n",
    "import sys\n",
    "!{sys.executable} -m pip install rdflib  owlready2 pandas\n",
    "\n",
    "import pandas as pd\n",
    "from rdflib import Graph, Literal, Namespace, RDF, RDFS, URIRef, OWL\n",
    "from rdflib.namespace import DC, FOAF\n",
    "\n",
    "\n",
    "from owlready2 import *\n",
    "import owlready2"
   ]
  },
  {
   "cell_type": "markdown",
   "id": "c20338c6",
   "metadata": {},
   "source": [
    "## Instanciate Classes\n",
    "\n",
    "TO ADD: BASIC INFO"
   ]
  },
  {
   "cell_type": "code",
   "execution_count": 7,
   "id": "191bbab4",
   "metadata": {},
   "outputs": [],
   "source": [
    "# creating the instances of the classes\n",
    "onto = get_ontology(\"http://test.org/onto.owl\") # is this correct?\n",
    "\n",
    "class Media(Thing):\n",
    "    namespace = onto\n",
    "\n",
    "# Superclass participants and its subclasses individual and group    \n",
    "class Participant(Thing):\n",
    "    namespace = onto\n",
    "\n",
    "class Individual(Participant):\n",
    "    namespace = onto\n",
    "\n",
    "class Group(Participant):\n",
    "    namespace = onto\n",
    "\n",
    "# Polical party is a subclass of group    \n",
    "class PolitcalParty(Group): # what should we do with this -> sub property\n",
    "    namespace = onto\n",
    "\n",
    "class Event(Thing):\n",
    "    namespace = onto\n",
    "    \n",
    "# Blank nodes for the place and time of the event        \n",
    "class Place(Nothing): # is this right?\n",
    "    namespace = onto\n",
    "    \n",
    "class Time(Nothing): # is this right?\n",
    "    namespace = onto\n",
    "\n",
    "class EventDescription(Thing):\n",
    "    namespace = onto\n",
    "\n",
    "class ParticipantDescription(Thing):\n",
    "    namespace = onto\n",
    "    "
   ]
  },
  {
   "cell_type": "markdown",
   "id": "b92e48cd",
   "metadata": {},
   "source": [
    "## Instanciate relations    \n",
    "\n",
    "TO ADD: BASIC INFO"
   ]
  },
  {
   "cell_type": "code",
   "execution_count": 4,
   "id": "03429936",
   "metadata": {},
   "outputs": [],
   "source": [
    "# Media describes event    \n",
    "class describeEvent(Media >> Event):\n",
    "    namespace = onto\n",
    "\n",
    "# Media describes participant    \n",
    "class describeParticipant(Media >> Participant):\n",
    "    namespace = onto\n",
    "\n",
    "# a Paricipant took part in a event   \n",
    "class tookPartIn(Participant >> Event):\n",
    "    namespace = onto\n",
    "\n",
    "# The event took Place at a certain place and Event    \n",
    "class tookPlaceAt(Event >> Place):\n",
    "    namespace = onto\n",
    "\n",
    "class occurdOn(Event >> Time):\n",
    "    namespace = onto\n",
    "    \n",
    "# A Individual may be a member of a group\n",
    "class memberOf(Individual >> Group):\n",
    "    namespace = onto\n",
    "\n",
    "class memberOfParty(memberOf):\n",
    "    namespace = onto\n",
    "\n",
    "class DescribesEvent(Media >>)\n",
    "\n",
    "    "
   ]
  },
  {
   "cell_type": "code",
   "execution_count": 6,
   "id": "9906186a",
   "metadata": {},
   "outputs": [
    {
     "data": {
      "text/plain": [
       "onto.memberOfParty.max(1, onto.PolitcalParty)"
      ]
     },
     "execution_count": 6,
     "metadata": {},
     "output_type": "execute_result"
    }
   ],
   "source": [
    "memberOfParty.max(1, PolitcalParty)"
   ]
  },
  {
   "cell_type": "markdown",
   "id": "e1052540",
   "metadata": {},
   "source": [
    "## Instanciate groups\n",
    "\n",
    "TO ADD: BASIC INFO"
   ]
  },
  {
   "cell_type": "code",
   "execution_count": 16,
   "id": "c30ddef2",
   "metadata": {},
   "outputs": [],
   "source": [
    "# WARNING: Syntax\n",
    "qanon = Group('Qanon')\n",
    "proudBoys = Group('ProudBoys')\n",
    "whitesupremacists = Group('Whitesupremacists')"
   ]
  },
  {
   "cell_type": "code",
   "execution_count": null,
   "id": "020ee88a",
   "metadata": {},
   "outputs": [],
   "source": [
    "tweetTrump = Event('Trump Tweets about irregularities and fraud regarding the election')\n",
    "timeTweet = Time(\"08:17\")\n",
    "bbcNews = Media(\"BBC news\", describeEvent = [tweetTrump])\n",
    "\n",
    "\n",
    "\n"
   ]
  },
  {
   "cell_type": "code",
   "execution_count": 14,
   "id": "375a20c8",
   "metadata": {},
   "outputs": [
    {
     "name": "stdout",
     "output_type": "stream",
     "text": [
      "onto.Qanon\n"
     ]
    }
   ],
   "source": [
    "print(qanon)"
   ]
  },
  {
   "cell_type": "code",
   "execution_count": null,
   "id": "08385b42",
   "metadata": {},
   "outputs": [],
   "source": []
  }
 ],
 "metadata": {
  "kernelspec": {
   "display_name": "Python 3",
   "language": "python",
   "name": "python3"
  },
  "language_info": {
   "codemirror_mode": {
    "name": "ipython",
    "version": 3
   },
   "file_extension": ".py",
   "mimetype": "text/x-python",
   "name": "python",
   "nbconvert_exporter": "python",
   "pygments_lexer": "ipython3",
   "version": "3.11.2"
  },
  "vscode": {
   "interpreter": {
    "hash": "aee8b7b246df8f9039afb4144a1f6fd8d2ca17a180786b69acc140d282b71a49"
   }
  }
 },
 "nbformat": 4,
 "nbformat_minor": 5
}
