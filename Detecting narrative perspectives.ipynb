{
 "cells": [
  {
   "cell_type": "markdown",
   "id": "b091b659",
   "metadata": {},
   "source": [
    "# Detecting narrative Perspectives\n",
    "\n",
    "TO ADD: INFO"
   ]
  },
  {
   "cell_type": "code",
   "execution_count": 4,
   "id": "cb921392",
   "metadata": {},
   "outputs": [
    {
     "name": "stdout",
     "output_type": "stream",
     "text": [
      "Requirement already satisfied: rdflib in /Users/sandrobarreshamers/opt/anaconda3/envs/KRW/lib/python3.8/site-packages (6.2.0)\n",
      "Requirement already satisfied: owlready2 in /Users/sandrobarreshamers/opt/anaconda3/envs/KRW/lib/python3.8/site-packages (0.40)\n",
      "Requirement already satisfied: pandas in /Users/sandrobarreshamers/opt/anaconda3/envs/KRW/lib/python3.8/site-packages (1.5.2)\n",
      "Requirement already satisfied: pyparsing in /Users/sandrobarreshamers/opt/anaconda3/envs/KRW/lib/python3.8/site-packages (from rdflib) (3.0.9)\n",
      "Requirement already satisfied: setuptools in /Users/sandrobarreshamers/opt/anaconda3/envs/KRW/lib/python3.8/site-packages (from rdflib) (65.6.3)\n",
      "Requirement already satisfied: isodate in /Users/sandrobarreshamers/opt/anaconda3/envs/KRW/lib/python3.8/site-packages (from rdflib) (0.6.1)\n",
      "Requirement already satisfied: python-dateutil>=2.8.1 in /Users/sandrobarreshamers/opt/anaconda3/envs/KRW/lib/python3.8/site-packages (from pandas) (2.8.2)\n",
      "Requirement already satisfied: pytz>=2020.1 in /Users/sandrobarreshamers/opt/anaconda3/envs/KRW/lib/python3.8/site-packages (from pandas) (2022.7)\n",
      "Requirement already satisfied: numpy>=1.20.3 in /Users/sandrobarreshamers/opt/anaconda3/envs/KRW/lib/python3.8/site-packages (from pandas) (1.21.5)\n",
      "Requirement already satisfied: six>=1.5 in /Users/sandrobarreshamers/opt/anaconda3/envs/KRW/lib/python3.8/site-packages (from python-dateutil>=2.8.1->pandas) (1.16.0)\n"
     ]
    }
   ],
   "source": [
    "## Uncomment if you do not have owlrl installed (you should have it installed from the RDFS tutorial)\n",
    "import sys\n",
    "!{sys.executable} -m pip install rdflib  owlready2 pandas\n",
    "\n",
    "import pandas as pd\n",
    "from rdflib import Graph, Literal, Namespace, RDF, RDFS, URIRef, OWL\n",
    "from rdflib.namespace import DC, FOAF\n",
    "\n",
    "\n",
    "from owlready2 import *\n",
    "import owlready2"
   ]
  },
  {
   "cell_type": "markdown",
   "id": "c20338c6",
   "metadata": {},
   "source": [
    "## Instanciate Classes\n",
    "\n",
    "TO ADD: BASIC INFO"
   ]
  },
  {
   "cell_type": "code",
   "execution_count": 8,
   "id": "191bbab4",
   "metadata": {},
   "outputs": [],
   "source": [
    "# creating the instances of the classes\n",
    "onto = get_ontology(\"http://test.org/onto.owl\") # is this correct?\n",
    "\n",
    "class Media(Thing):\n",
    "    namespace = onto\n",
    "\n",
    "# Superclass participants and its subclasses individual and group    \n",
    "class Participant(Thing):\n",
    "    namespace = onto\n",
    "\n",
    "class Individual(Participant):\n",
    "    namespace = onto\n",
    "\n",
    "class Group(Participant):\n",
    "    namespace = onto\n",
    "\n",
    "# Polical party is a subclass of group    \n",
    "class PolitcalParty(Group): # what should we do with this -> sub property\n",
    "    namespace = onto\n",
    "\n",
    "class Event(Thing):\n",
    "    namespace = onto\n",
    "    \n",
    "# Blank nodes for the place and time of the event        \n",
    "class Place(Nothing): # is this right?\n",
    "    namespace = onto\n",
    "    \n",
    "class Time(Nothing): # is this right?\n",
    "    namespace = onto\n",
    "    "
   ]
  },
  {
   "cell_type": "markdown",
   "id": "b92e48cd",
   "metadata": {},
   "source": [
    "## Instanciate relations    \n",
    "\n",
    "TO ADD: BASIC INFO"
   ]
  },
  {
   "cell_type": "code",
   "execution_count": 10,
   "id": "03429936",
   "metadata": {},
   "outputs": [],
   "source": [
    "# Media describes event    \n",
    "class describeEvent(Media >> Event):\n",
    "    namespace = onto\n",
    "\n",
    "# Media describes participant    \n",
    "class describeParticipant(Media >> Participant):\n",
    "    namespace = onto\n",
    "\n",
    "# a Paricipant took part in a event   \n",
    "class tookPartIn(Participant >> Event):\n",
    "    namespace = onto\n",
    "\n",
    "# The event took Place at a certain place and Event    \n",
    "class tookPlaceAt(Event >> Place):\n",
    "    namespace = onto\n",
    "\n",
    "class occurdOn(Event >> Time):\n",
    "    namespace = onto\n",
    "    \n",
    "# A Individual may be a member of a group\n",
    "class memberOf(Individual >> Group):\n",
    "    namespace = onto\n",
    "\n",
    "    "
   ]
  },
  {
   "cell_type": "markdown",
   "id": "e1052540",
   "metadata": {},
   "source": [
    "## Instanciate groups\n",
    "\n",
    "TO ADD: BASIC INFO"
   ]
  },
  {
   "cell_type": "code",
   "execution_count": 16,
   "id": "c30ddef2",
   "metadata": {},
   "outputs": [],
   "source": [
    "# WARNING: Syntax\n",
    "qanon = Group('Qanon')\n",
    "proudBoys = Group('ProudBoys')\n",
    "whitesupremacists = Group('Whitesupremacists')"
   ]
  },
  {
   "cell_type": "code",
   "execution_count": 14,
   "id": "375a20c8",
   "metadata": {},
   "outputs": [
    {
     "name": "stdout",
     "output_type": "stream",
     "text": [
      "onto.Qanon\n"
     ]
    }
   ],
   "source": [
    "print(qanon)"
   ]
  },
  {
   "cell_type": "code",
   "execution_count": null,
   "id": "08385b42",
   "metadata": {},
   "outputs": [],
   "source": []
  }
 ],
 "metadata": {
  "kernelspec": {
   "display_name": "Python 3 (ipykernel)",
   "language": "python",
   "name": "python3"
  },
  "language_info": {
   "codemirror_mode": {
    "name": "ipython",
    "version": 3
   },
   "file_extension": ".py",
   "mimetype": "text/x-python",
   "name": "python",
   "nbconvert_exporter": "python",
   "pygments_lexer": "ipython3",
   "version": "3.8.13"
  }
 },
 "nbformat": 4,
 "nbformat_minor": 5
}
