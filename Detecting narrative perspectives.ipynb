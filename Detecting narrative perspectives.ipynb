{
 "cells": [
  {
   "cell_type": "code",
   "execution_count": 1,
   "id": "aff2f477",
   "metadata": {},
   "outputs": [
    {
     "name": "stdout",
     "output_type": "stream",
     "text": [
      "Requirement already satisfied: rdflib in /Users/sandrobarreshamers/opt/anaconda3/envs/KRW/lib/python3.8/site-packages (6.2.0)\n",
      "Requirement already satisfied: owlready2 in /Users/sandrobarreshamers/opt/anaconda3/envs/KRW/lib/python3.8/site-packages (0.40)\n",
      "Requirement already satisfied: pandas in /Users/sandrobarreshamers/opt/anaconda3/envs/KRW/lib/python3.8/site-packages (1.5.2)\n",
      "Requirement already satisfied: isodate in /Users/sandrobarreshamers/opt/anaconda3/envs/KRW/lib/python3.8/site-packages (from rdflib) (0.6.1)\n",
      "Requirement already satisfied: setuptools in /Users/sandrobarreshamers/opt/anaconda3/envs/KRW/lib/python3.8/site-packages (from rdflib) (65.6.3)\n",
      "Requirement already satisfied: pyparsing in /Users/sandrobarreshamers/opt/anaconda3/envs/KRW/lib/python3.8/site-packages (from rdflib) (3.0.9)\n",
      "Requirement already satisfied: python-dateutil>=2.8.1 in /Users/sandrobarreshamers/opt/anaconda3/envs/KRW/lib/python3.8/site-packages (from pandas) (2.8.2)\n",
      "Requirement already satisfied: pytz>=2020.1 in /Users/sandrobarreshamers/opt/anaconda3/envs/KRW/lib/python3.8/site-packages (from pandas) (2022.7)\n",
      "Requirement already satisfied: numpy>=1.20.3 in /Users/sandrobarreshamers/opt/anaconda3/envs/KRW/lib/python3.8/site-packages (from pandas) (1.21.5)\n",
      "Requirement already satisfied: six>=1.5 in /Users/sandrobarreshamers/opt/anaconda3/envs/KRW/lib/python3.8/site-packages (from python-dateutil>=2.8.1->pandas) (1.16.0)\n"
     ]
    }
   ],
   "source": [
    "## Uncomment if you do not have owlrl installed (you should have it installed from the RDFS tutorial)\n",
    "import sys\n",
    "!{sys.executable} -m pip install rdflib  owlready2 pandas\n",
    "\n",
    "import pandas as pd\n",
    "from rdflib import Graph, Literal, Namespace, RDF, URIRef, OWL\n",
    "from rdflib.namespace import DC, FOAF\n",
    "\n",
    "\n",
    "from owlready2 import *\n",
    "import owlready2"
   ]
  },
  {
   "cell_type": "code",
   "execution_count": null,
   "id": "0bc9bcfa",
   "metadata": {},
   "outputs": [],
   "source": []
  }
 ],
 "metadata": {
  "kernelspec": {
   "display_name": "Python 3 (ipykernel)",
   "language": "python",
   "name": "python3"
  },
  "language_info": {
   "codemirror_mode": {
    "name": "ipython",
    "version": 3
   },
   "file_extension": ".py",
   "mimetype": "text/x-python",
   "name": "python",
   "nbconvert_exporter": "python",
   "pygments_lexer": "ipython3",
   "version": "3.8.13"
  }
 },
 "nbformat": 4,
 "nbformat_minor": 5
}
