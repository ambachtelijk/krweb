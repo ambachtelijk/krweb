{
 "cells": [
  {
   "cell_type": "code",
   "execution_count": 5,
   "id": "6ece81dd",
   "metadata": {},
   "outputs": [
    {
     "name": "stdout",
     "output_type": "stream",
     "text": [
      "Requirement already satisfied: spacy in /Users/sandrobarreshamers/opt/anaconda3/envs/KRW/lib/python3.8/site-packages (3.5.1)\n",
      "Requirement already satisfied: cymem<2.1.0,>=2.0.2 in /Users/sandrobarreshamers/opt/anaconda3/envs/KRW/lib/python3.8/site-packages (from spacy) (2.0.7)\n",
      "Requirement already satisfied: langcodes<4.0.0,>=3.2.0 in /Users/sandrobarreshamers/opt/anaconda3/envs/KRW/lib/python3.8/site-packages (from spacy) (3.3.0)\n",
      "Requirement already satisfied: spacy-loggers<2.0.0,>=1.0.0 in /Users/sandrobarreshamers/opt/anaconda3/envs/KRW/lib/python3.8/site-packages (from spacy) (1.0.4)\n",
      "Requirement already satisfied: catalogue<2.1.0,>=2.0.6 in /Users/sandrobarreshamers/opt/anaconda3/envs/KRW/lib/python3.8/site-packages (from spacy) (2.0.8)\n",
      "Requirement already satisfied: thinc<8.2.0,>=8.1.8 in /Users/sandrobarreshamers/opt/anaconda3/envs/KRW/lib/python3.8/site-packages (from spacy) (8.1.9)\n",
      "Requirement already satisfied: wasabi<1.2.0,>=0.9.1 in /Users/sandrobarreshamers/opt/anaconda3/envs/KRW/lib/python3.8/site-packages (from spacy) (1.1.1)\n",
      "Requirement already satisfied: srsly<3.0.0,>=2.4.3 in /Users/sandrobarreshamers/opt/anaconda3/envs/KRW/lib/python3.8/site-packages (from spacy) (2.4.6)\n",
      "Requirement already satisfied: jinja2 in /Users/sandrobarreshamers/opt/anaconda3/envs/KRW/lib/python3.8/site-packages (from spacy) (3.1.2)\n",
      "Requirement already satisfied: tqdm<5.0.0,>=4.38.0 in /Users/sandrobarreshamers/opt/anaconda3/envs/KRW/lib/python3.8/site-packages (from spacy) (4.64.1)\n",
      "Requirement already satisfied: requests<3.0.0,>=2.13.0 in /Users/sandrobarreshamers/opt/anaconda3/envs/KRW/lib/python3.8/site-packages (from spacy) (2.28.1)\n",
      "Requirement already satisfied: spacy-legacy<3.1.0,>=3.0.11 in /Users/sandrobarreshamers/opt/anaconda3/envs/KRW/lib/python3.8/site-packages (from spacy) (3.0.12)\n",
      "Requirement already satisfied: typer<0.8.0,>=0.3.0 in /Users/sandrobarreshamers/opt/anaconda3/envs/KRW/lib/python3.8/site-packages (from spacy) (0.7.0)\n",
      "Requirement already satisfied: setuptools in /Users/sandrobarreshamers/opt/anaconda3/envs/KRW/lib/python3.8/site-packages (from spacy) (65.6.3)\n",
      "Requirement already satisfied: pydantic!=1.8,!=1.8.1,<1.11.0,>=1.7.4 in /Users/sandrobarreshamers/opt/anaconda3/envs/KRW/lib/python3.8/site-packages (from spacy) (1.10.6)\n",
      "Requirement already satisfied: numpy>=1.15.0 in /Users/sandrobarreshamers/opt/anaconda3/envs/KRW/lib/python3.8/site-packages (from spacy) (1.21.5)\n",
      "Requirement already satisfied: packaging>=20.0 in /Users/sandrobarreshamers/opt/anaconda3/envs/KRW/lib/python3.8/site-packages (from spacy) (22.0)\n",
      "Requirement already satisfied: murmurhash<1.1.0,>=0.28.0 in /Users/sandrobarreshamers/opt/anaconda3/envs/KRW/lib/python3.8/site-packages (from spacy) (1.0.9)\n",
      "Requirement already satisfied: preshed<3.1.0,>=3.0.2 in /Users/sandrobarreshamers/opt/anaconda3/envs/KRW/lib/python3.8/site-packages (from spacy) (3.0.8)\n",
      "Requirement already satisfied: smart-open<7.0.0,>=5.2.1 in /Users/sandrobarreshamers/opt/anaconda3/envs/KRW/lib/python3.8/site-packages (from spacy) (5.2.1)\n",
      "Requirement already satisfied: pathy>=0.10.0 in /Users/sandrobarreshamers/opt/anaconda3/envs/KRW/lib/python3.8/site-packages (from spacy) (0.10.1)\n",
      "Requirement already satisfied: typing-extensions>=4.2.0 in /Users/sandrobarreshamers/opt/anaconda3/envs/KRW/lib/python3.8/site-packages (from pydantic!=1.8,!=1.8.1,<1.11.0,>=1.7.4->spacy) (4.4.0)\n",
      "Requirement already satisfied: urllib3<1.27,>=1.21.1 in /Users/sandrobarreshamers/opt/anaconda3/envs/KRW/lib/python3.8/site-packages (from requests<3.0.0,>=2.13.0->spacy) (1.26.14)\n",
      "Requirement already satisfied: idna<4,>=2.5 in /Users/sandrobarreshamers/opt/anaconda3/envs/KRW/lib/python3.8/site-packages (from requests<3.0.0,>=2.13.0->spacy) (3.4)\n",
      "Requirement already satisfied: certifi>=2017.4.17 in /Users/sandrobarreshamers/opt/anaconda3/envs/KRW/lib/python3.8/site-packages (from requests<3.0.0,>=2.13.0->spacy) (2022.12.7)\n",
      "Requirement already satisfied: charset-normalizer<3,>=2 in /Users/sandrobarreshamers/opt/anaconda3/envs/KRW/lib/python3.8/site-packages (from requests<3.0.0,>=2.13.0->spacy) (2.0.4)\n",
      "Requirement already satisfied: blis<0.8.0,>=0.7.8 in /Users/sandrobarreshamers/opt/anaconda3/envs/KRW/lib/python3.8/site-packages (from thinc<8.2.0,>=8.1.8->spacy) (0.7.9)\n",
      "Requirement already satisfied: confection<1.0.0,>=0.0.1 in /Users/sandrobarreshamers/opt/anaconda3/envs/KRW/lib/python3.8/site-packages (from thinc<8.2.0,>=8.1.8->spacy) (0.0.4)\n",
      "Requirement already satisfied: click<9.0.0,>=7.1.1 in /Users/sandrobarreshamers/opt/anaconda3/envs/KRW/lib/python3.8/site-packages (from typer<0.8.0,>=0.3.0->spacy) (8.0.4)\n",
      "Requirement already satisfied: MarkupSafe>=2.0 in /Users/sandrobarreshamers/opt/anaconda3/envs/KRW/lib/python3.8/site-packages (from jinja2->spacy) (2.1.1)\n",
      "Collecting en-core-web-sm==3.5.0\n",
      "  Downloading https://github.com/explosion/spacy-models/releases/download/en_core_web_sm-3.5.0/en_core_web_sm-3.5.0-py3-none-any.whl (12.8 MB)\n",
      "\u001b[2K     \u001b[90m━━━━━━━━━━━━━━━━━━━━━━━━━━━━━━━━━━━━━━━━\u001b[0m \u001b[32m12.8/12.8 MB\u001b[0m \u001b[31m11.3 MB/s\u001b[0m eta \u001b[36m0:00:00\u001b[0m00:01\u001b[0m00:01\u001b[0m\n",
      "\u001b[?25hRequirement already satisfied: spacy<3.6.0,>=3.5.0 in /Users/sandrobarreshamers/opt/anaconda3/envs/KRW/lib/python3.8/site-packages (from en-core-web-sm==3.5.0) (3.5.1)\n",
      "Requirement already satisfied: wasabi<1.2.0,>=0.9.1 in /Users/sandrobarreshamers/opt/anaconda3/envs/KRW/lib/python3.8/site-packages (from spacy<3.6.0,>=3.5.0->en-core-web-sm==3.5.0) (1.1.1)\n",
      "Requirement already satisfied: packaging>=20.0 in /Users/sandrobarreshamers/opt/anaconda3/envs/KRW/lib/python3.8/site-packages (from spacy<3.6.0,>=3.5.0->en-core-web-sm==3.5.0) (22.0)\n",
      "Requirement already satisfied: langcodes<4.0.0,>=3.2.0 in /Users/sandrobarreshamers/opt/anaconda3/envs/KRW/lib/python3.8/site-packages (from spacy<3.6.0,>=3.5.0->en-core-web-sm==3.5.0) (3.3.0)\n",
      "Requirement already satisfied: tqdm<5.0.0,>=4.38.0 in /Users/sandrobarreshamers/opt/anaconda3/envs/KRW/lib/python3.8/site-packages (from spacy<3.6.0,>=3.5.0->en-core-web-sm==3.5.0) (4.64.1)\n",
      "Requirement already satisfied: spacy-legacy<3.1.0,>=3.0.11 in /Users/sandrobarreshamers/opt/anaconda3/envs/KRW/lib/python3.8/site-packages (from spacy<3.6.0,>=3.5.0->en-core-web-sm==3.5.0) (3.0.12)\n",
      "Requirement already satisfied: smart-open<7.0.0,>=5.2.1 in /Users/sandrobarreshamers/opt/anaconda3/envs/KRW/lib/python3.8/site-packages (from spacy<3.6.0,>=3.5.0->en-core-web-sm==3.5.0) (5.2.1)\n",
      "Requirement already satisfied: catalogue<2.1.0,>=2.0.6 in /Users/sandrobarreshamers/opt/anaconda3/envs/KRW/lib/python3.8/site-packages (from spacy<3.6.0,>=3.5.0->en-core-web-sm==3.5.0) (2.0.8)\n",
      "Requirement already satisfied: thinc<8.2.0,>=8.1.8 in /Users/sandrobarreshamers/opt/anaconda3/envs/KRW/lib/python3.8/site-packages (from spacy<3.6.0,>=3.5.0->en-core-web-sm==3.5.0) (8.1.9)\n",
      "Requirement already satisfied: preshed<3.1.0,>=3.0.2 in /Users/sandrobarreshamers/opt/anaconda3/envs/KRW/lib/python3.8/site-packages (from spacy<3.6.0,>=3.5.0->en-core-web-sm==3.5.0) (3.0.8)\n",
      "Requirement already satisfied: pathy>=0.10.0 in /Users/sandrobarreshamers/opt/anaconda3/envs/KRW/lib/python3.8/site-packages (from spacy<3.6.0,>=3.5.0->en-core-web-sm==3.5.0) (0.10.1)\n",
      "Requirement already satisfied: numpy>=1.15.0 in /Users/sandrobarreshamers/opt/anaconda3/envs/KRW/lib/python3.8/site-packages (from spacy<3.6.0,>=3.5.0->en-core-web-sm==3.5.0) (1.21.5)\n",
      "Requirement already satisfied: setuptools in /Users/sandrobarreshamers/opt/anaconda3/envs/KRW/lib/python3.8/site-packages (from spacy<3.6.0,>=3.5.0->en-core-web-sm==3.5.0) (65.6.3)\n",
      "Requirement already satisfied: typer<0.8.0,>=0.3.0 in /Users/sandrobarreshamers/opt/anaconda3/envs/KRW/lib/python3.8/site-packages (from spacy<3.6.0,>=3.5.0->en-core-web-sm==3.5.0) (0.7.0)\n",
      "Requirement already satisfied: requests<3.0.0,>=2.13.0 in /Users/sandrobarreshamers/opt/anaconda3/envs/KRW/lib/python3.8/site-packages (from spacy<3.6.0,>=3.5.0->en-core-web-sm==3.5.0) (2.28.1)\n",
      "Requirement already satisfied: cymem<2.1.0,>=2.0.2 in /Users/sandrobarreshamers/opt/anaconda3/envs/KRW/lib/python3.8/site-packages (from spacy<3.6.0,>=3.5.0->en-core-web-sm==3.5.0) (2.0.7)\n",
      "Requirement already satisfied: jinja2 in /Users/sandrobarreshamers/opt/anaconda3/envs/KRW/lib/python3.8/site-packages (from spacy<3.6.0,>=3.5.0->en-core-web-sm==3.5.0) (3.1.2)\n",
      "Requirement already satisfied: spacy-loggers<2.0.0,>=1.0.0 in /Users/sandrobarreshamers/opt/anaconda3/envs/KRW/lib/python3.8/site-packages (from spacy<3.6.0,>=3.5.0->en-core-web-sm==3.5.0) (1.0.4)\n",
      "Requirement already satisfied: pydantic!=1.8,!=1.8.1,<1.11.0,>=1.7.4 in /Users/sandrobarreshamers/opt/anaconda3/envs/KRW/lib/python3.8/site-packages (from spacy<3.6.0,>=3.5.0->en-core-web-sm==3.5.0) (1.10.6)\n",
      "Requirement already satisfied: srsly<3.0.0,>=2.4.3 in /Users/sandrobarreshamers/opt/anaconda3/envs/KRW/lib/python3.8/site-packages (from spacy<3.6.0,>=3.5.0->en-core-web-sm==3.5.0) (2.4.6)\n",
      "Requirement already satisfied: murmurhash<1.1.0,>=0.28.0 in /Users/sandrobarreshamers/opt/anaconda3/envs/KRW/lib/python3.8/site-packages (from spacy<3.6.0,>=3.5.0->en-core-web-sm==3.5.0) (1.0.9)\n"
     ]
    },
    {
     "name": "stdout",
     "output_type": "stream",
     "text": [
      "Requirement already satisfied: typing-extensions>=4.2.0 in /Users/sandrobarreshamers/opt/anaconda3/envs/KRW/lib/python3.8/site-packages (from pydantic!=1.8,!=1.8.1,<1.11.0,>=1.7.4->spacy<3.6.0,>=3.5.0->en-core-web-sm==3.5.0) (4.4.0)\n",
      "Requirement already satisfied: urllib3<1.27,>=1.21.1 in /Users/sandrobarreshamers/opt/anaconda3/envs/KRW/lib/python3.8/site-packages (from requests<3.0.0,>=2.13.0->spacy<3.6.0,>=3.5.0->en-core-web-sm==3.5.0) (1.26.14)\n",
      "Requirement already satisfied: idna<4,>=2.5 in /Users/sandrobarreshamers/opt/anaconda3/envs/KRW/lib/python3.8/site-packages (from requests<3.0.0,>=2.13.0->spacy<3.6.0,>=3.5.0->en-core-web-sm==3.5.0) (3.4)\n",
      "Requirement already satisfied: certifi>=2017.4.17 in /Users/sandrobarreshamers/opt/anaconda3/envs/KRW/lib/python3.8/site-packages (from requests<3.0.0,>=2.13.0->spacy<3.6.0,>=3.5.0->en-core-web-sm==3.5.0) (2022.12.7)\n",
      "Requirement already satisfied: charset-normalizer<3,>=2 in /Users/sandrobarreshamers/opt/anaconda3/envs/KRW/lib/python3.8/site-packages (from requests<3.0.0,>=2.13.0->spacy<3.6.0,>=3.5.0->en-core-web-sm==3.5.0) (2.0.4)\n",
      "Requirement already satisfied: confection<1.0.0,>=0.0.1 in /Users/sandrobarreshamers/opt/anaconda3/envs/KRW/lib/python3.8/site-packages (from thinc<8.2.0,>=8.1.8->spacy<3.6.0,>=3.5.0->en-core-web-sm==3.5.0) (0.0.4)\n",
      "Requirement already satisfied: blis<0.8.0,>=0.7.8 in /Users/sandrobarreshamers/opt/anaconda3/envs/KRW/lib/python3.8/site-packages (from thinc<8.2.0,>=8.1.8->spacy<3.6.0,>=3.5.0->en-core-web-sm==3.5.0) (0.7.9)\n",
      "Requirement already satisfied: click<9.0.0,>=7.1.1 in /Users/sandrobarreshamers/opt/anaconda3/envs/KRW/lib/python3.8/site-packages (from typer<0.8.0,>=0.3.0->spacy<3.6.0,>=3.5.0->en-core-web-sm==3.5.0) (8.0.4)\n",
      "Requirement already satisfied: MarkupSafe>=2.0 in /Users/sandrobarreshamers/opt/anaconda3/envs/KRW/lib/python3.8/site-packages (from jinja2->spacy<3.6.0,>=3.5.0->en-core-web-sm==3.5.0) (2.1.1)\n",
      "\u001b[38;5;2m✔ Download and installation successful\u001b[0m\n",
      "You can now load the package via spacy.load('en_core_web_sm')\n",
      "Requirement already satisfied: nltk in /Users/sandrobarreshamers/opt/anaconda3/envs/KRW/lib/python3.8/site-packages (3.7)\n",
      "Requirement already satisfied: regex>=2021.8.3 in /Users/sandrobarreshamers/opt/anaconda3/envs/KRW/lib/python3.8/site-packages (from nltk) (2022.7.9)\n",
      "Requirement already satisfied: tqdm in /Users/sandrobarreshamers/opt/anaconda3/envs/KRW/lib/python3.8/site-packages (from nltk) (4.64.1)\n",
      "Requirement already satisfied: click in /Users/sandrobarreshamers/opt/anaconda3/envs/KRW/lib/python3.8/site-packages (from nltk) (8.0.4)\n",
      "Requirement already satisfied: joblib in /Users/sandrobarreshamers/opt/anaconda3/envs/KRW/lib/python3.8/site-packages (from nltk) (1.1.1)\n",
      "Requirement already satisfied: vaderSentiment in /Users/sandrobarreshamers/opt/anaconda3/envs/KRW/lib/python3.8/site-packages (3.3.2)\n",
      "Requirement already satisfied: requests in /Users/sandrobarreshamers/opt/anaconda3/envs/KRW/lib/python3.8/site-packages (from vaderSentiment) (2.28.1)\n",
      "Requirement already satisfied: urllib3<1.27,>=1.21.1 in /Users/sandrobarreshamers/opt/anaconda3/envs/KRW/lib/python3.8/site-packages (from requests->vaderSentiment) (1.26.14)\n",
      "Requirement already satisfied: certifi>=2017.4.17 in /Users/sandrobarreshamers/opt/anaconda3/envs/KRW/lib/python3.8/site-packages (from requests->vaderSentiment) (2022.12.7)\n",
      "Requirement already satisfied: charset-normalizer<3,>=2 in /Users/sandrobarreshamers/opt/anaconda3/envs/KRW/lib/python3.8/site-packages (from requests->vaderSentiment) (2.0.4)\n",
      "Requirement already satisfied: idna<4,>=2.5 in /Users/sandrobarreshamers/opt/anaconda3/envs/KRW/lib/python3.8/site-packages (from requests->vaderSentiment) (3.4)\n",
      "Requirement already satisfied: matplotlib in /Users/sandrobarreshamers/opt/anaconda3/envs/KRW/lib/python3.8/site-packages (3.6.2)\n",
      "Collecting matplotlib\n",
      "  Downloading matplotlib-3.7.1-cp38-cp38-macosx_10_12_x86_64.whl (7.4 MB)\n",
      "\u001b[2K     \u001b[90m━━━━━━━━━━━━━━━━━━━━━━━━━━━━━━━━━━━━━━━━\u001b[0m \u001b[32m7.4/7.4 MB\u001b[0m \u001b[31m11.2 MB/s\u001b[0m eta \u001b[36m0:00:00\u001b[0m00:01\u001b[0m00:01\u001b[0m\n",
      "\u001b[?25hRequirement already satisfied: python-dateutil>=2.7 in /Users/sandrobarreshamers/opt/anaconda3/envs/KRW/lib/python3.8/site-packages (from matplotlib) (2.8.2)\n",
      "Requirement already satisfied: cycler>=0.10 in /Users/sandrobarreshamers/opt/anaconda3/envs/KRW/lib/python3.8/site-packages (from matplotlib) (0.11.0)\n",
      "Requirement already satisfied: pyparsing>=2.3.1 in /Users/sandrobarreshamers/opt/anaconda3/envs/KRW/lib/python3.8/site-packages (from matplotlib) (3.0.9)\n",
      "Requirement already satisfied: pillow>=6.2.0 in /Users/sandrobarreshamers/opt/anaconda3/envs/KRW/lib/python3.8/site-packages (from matplotlib) (9.3.0)\n",
      "Requirement already satisfied: kiwisolver>=1.0.1 in /Users/sandrobarreshamers/opt/anaconda3/envs/KRW/lib/python3.8/site-packages (from matplotlib) (1.4.4)\n",
      "Requirement already satisfied: numpy>=1.20 in /Users/sandrobarreshamers/opt/anaconda3/envs/KRW/lib/python3.8/site-packages (from matplotlib) (1.21.5)\n",
      "Requirement already satisfied: contourpy>=1.0.1 in /Users/sandrobarreshamers/opt/anaconda3/envs/KRW/lib/python3.8/site-packages (from matplotlib) (1.0.5)\n",
      "Requirement already satisfied: fonttools>=4.22.0 in /Users/sandrobarreshamers/opt/anaconda3/envs/KRW/lib/python3.8/site-packages (from matplotlib) (4.25.0)\n",
      "Requirement already satisfied: packaging>=20.0 in /Users/sandrobarreshamers/opt/anaconda3/envs/KRW/lib/python3.8/site-packages (from matplotlib) (22.0)\n",
      "Requirement already satisfied: importlib-resources>=3.2.0 in /Users/sandrobarreshamers/opt/anaconda3/envs/KRW/lib/python3.8/site-packages (from matplotlib) (5.2.0)\n",
      "Requirement already satisfied: zipp>=3.1.0 in /Users/sandrobarreshamers/opt/anaconda3/envs/KRW/lib/python3.8/site-packages (from importlib-resources>=3.2.0->matplotlib) (3.11.0)\n",
      "Requirement already satisfied: six>=1.5 in /Users/sandrobarreshamers/opt/anaconda3/envs/KRW/lib/python3.8/site-packages (from python-dateutil>=2.7->matplotlib) (1.16.0)\n",
      "Installing collected packages: matplotlib\n",
      "  Attempting uninstall: matplotlib\n",
      "    Found existing installation: matplotlib 3.6.2\n",
      "    Uninstalling matplotlib-3.6.2:\n",
      "      Successfully uninstalled matplotlib-3.6.2\n",
      "Successfully installed matplotlib-3.7.1\n"
     ]
    }
   ],
   "source": [
    "!pip install spacy\n",
    "!python -m spacy download en_core_web_sm\n",
    "!pip install nltk\n",
    "!pip install vaderSentiment\n",
    "!pip install --upgrade matplotlib"
   ]
  },
  {
   "cell_type": "code",
   "execution_count": 2,
   "id": "5a30a78b",
   "metadata": {},
   "outputs": [
    {
     "name": "stdout",
     "output_type": "stream",
     "text": [
      "\r",
      "\u001b[2K\u001b[38;5;2m✔ Loaded compatibility table\u001b[0m\r\n",
      "\u001b[1m\r\n",
      "================= Installed pipeline packages (spaCy v3.5.1) =================\u001b[0m\r\n",
      "\u001b[38;5;4mℹ spaCy installation:\r\n",
      "/Users/sandrobarreshamers/opt/anaconda3/envs/KRW/lib/python3.8/site-packages/spacy\u001b[0m\r\n",
      "\r\n",
      "NAME             SPACY            VERSION                            \r\n",
      "en_core_web_sm   >=3.5.0,<3.6.0   \u001b[38;5;2m3.5.0\u001b[0m   \u001b[38;5;2m✔\u001b[0m\r\n",
      "\r\n"
     ]
    }
   ],
   "source": [
    "!python -m spacy validate"
   ]
  },
  {
   "cell_type": "code",
   "execution_count": 39,
   "id": "13fe5120",
   "metadata": {},
   "outputs": [],
   "source": [
    "# Import libraries \n",
    "\n",
    "#basic libraries\n",
    "import pandas as pd \n",
    "import numpy as np\n",
    "import os\n",
    "#Spacy libraries\n",
    "import spacy\n",
    "from spacy.lang.en import English\n",
    "from spacy.matcher import Matcher, PhraseMatcher\n",
    "from spacy.tokens import Doc, Span\n",
    "from spacy.language import Language\n",
    "\n",
    "#NLTK libraries for sentiment analysis VADER\n",
    "import nltk\n",
    "from vaderSentiment.vaderSentiment import SentimentIntensityAnalyzer\n",
    "\n",
    "#Visiualization and ML libraries\n",
    "import sklearn\n",
    "import matplotlib\n"
   ]
  },
  {
   "cell_type": "code",
   "execution_count": 17,
   "id": "4bb594fc",
   "metadata": {},
   "outputs": [
    {
     "name": "stdout",
     "output_type": "stream",
     "text": [
      "Files in '/Users/sandrobarreshamers/github/krweb/Python files': ['.ipynb_checkpoints', 'Analysis.ipynb']\n"
     ]
    }
   ],
   "source": [
    "cwd = os.getcwd()  \n",
    "files = os.listdir(cwd)\n",
    "\n",
    "print(\"Files in %r: %s\" % (cwd, files))"
   ]
  },
  {
   "cell_type": "code",
   "execution_count": 26,
   "id": "b61ab2ae",
   "metadata": {},
   "outputs": [
    {
     "name": "stdout",
     "output_type": "stream",
     "text": [
      "                          event             datetime  \\\n",
      "0    http://example.com/E_BBC_1  2021-01-06T08:17:00   \n",
      "1    http://example.com/E_BBC_2  2021-01-06T10:58:00   \n",
      "2    http://example.com/E_BBC_3  2021-01-06T12:00:00   \n",
      "3    http://example.com/E_BBC_4  2021-01-06T12:53:00   \n",
      "4    http://example.com/E_BBC_5  2021-01-06T13:10:00   \n",
      "5    http://example.com/E_BBC_6  2021-01-06T13:45:00   \n",
      "6    http://example.com/E_BBC_7  2021-01-06T14:13:00   \n",
      "7    http://example.com/E_BBC_7  2021-01-06T14:13:00   \n",
      "8    http://example.com/E_BBC_8  2021-01-06T14:24:00   \n",
      "9    http://example.com/E_BBC_9  2021-01-06T14:26:00   \n",
      "10  http://example.com/E_BBC_10  2021-01-06T14:41:00   \n",
      "11  http://example.com/E_BBC_10  2021-01-06T14:41:00   \n",
      "12  http://example.com/E_BBC_11  2021-01-06T15:13:00   \n",
      "13  http://example.com/E_BBC_12  2021-01-06T16:17:00   \n",
      "14  http://example.com/E_BBC_12  2021-01-06T16:17:00   \n",
      "15  http://example.com/E_BBC_12  2021-01-06T18:00:00   \n",
      "16  http://example.com/E_BBC_12  2021-01-06T18:00:00   \n",
      "\n",
      "                                         location  \\\n",
      "0                                             NaN   \n",
      "1            http://example.com/towardsTheCapitol   \n",
      "2                                             NaN   \n",
      "3            http://example.com/outsideTheCapitol   \n",
      "4                                             NaN   \n",
      "5                 http://example.com/theWestSteps   \n",
      "6                  http://example.com/senateFloor   \n",
      "7           http://example.com/within30mOfMrPence   \n",
      "8                                             NaN   \n",
      "9                                             NaN   \n",
      "10  http://example.com/hallwayOutsideHouseChamber   \n",
      "11               http://example.com/senateGallery   \n",
      "12                                            NaN   \n",
      "13                                            NaN   \n",
      "14                                            NaN   \n",
      "15                                            NaN   \n",
      "16                                            NaN   \n",
      "\n",
      "                                          description  \n",
      "0                                                 NaN  \n",
      "1   Members of the Proud Boy movement, a right-win...  \n",
      "2   President Trump begins his speech to supporter...  \n",
      "3   As the president speaks, a crowd outside the C...  \n",
      "4   Mr Trump ends his speech with the words: 'we f...  \n",
      "5                                                 NaN  \n",
      "6   Secret Service quickly and suddenly evacuate M...  \n",
      "7   Secret Service quickly and suddenly evacuate M...  \n",
      "8   President Trump tweets about Mr Pence. At the ...  \n",
      "9   President Trump called Senator Mike Lee, accor...  \n",
      "10  Ashli Babbit is seen turning the corner toward...  \n",
      "11  Ashli Babbit is seen turning the corner toward...  \n",
      "12   Trump tweets asking for people to 'remain pea...  \n",
      "13  Trump releases a video in which he tells the m...  \n",
      "14  Fifteen minutes after police confirm Ashli Bab...  \n",
      "15  Trump releases a video in which he tells the m...  \n",
      "16  Fifteen minutes after police confirm Ashli Bab...  \n"
     ]
    },
    {
     "data": {
      "text/plain": [
       "array(['event', 'datetime', 'location', 'description'], dtype=object)"
      ]
     },
     "execution_count": 26,
     "metadata": {},
     "output_type": "execute_result"
    }
   ],
   "source": [
    "time_line = pd.read_csv('/Users/sandrobarreshamers/github/krweb/Query_files/time_line_BBC.csv')\n",
    "print(time_line)\n",
    "time_line.columns.values\n",
    "\n"
   ]
  },
  {
   "cell_type": "code",
   "execution_count": 94,
   "id": "a5126076",
   "metadata": {},
   "outputs": [
    {
     "name": "stdout",
     "output_type": "stream",
     "text": [
      "['EVENT 1', 'EVENT 2', 'EVENT 3', 'EVENT 4', 'EVENT 5', 'EVENT 6', 'EVENT 7', 'EVENT 7', 'EVENT 8', 'EVENT 9', 'EVENT 10', 'EVENT 10', 'EVENT 11', 'EVENT 12', 'EVENT 12', 'EVENT 12', 'EVENT 12']\n"
     ]
    }
   ],
   "source": [
    "# extract the events from the 'event' column and store them in a list\n",
    "events = time_line['event'].str.split('/').str[-1].str.upper().str.replace('_', ' ').tolist()\n",
    "\n",
    "# print the events list\n",
    "print(events)"
   ]
  },
  {
   "cell_type": "code",
   "execution_count": 95,
   "id": "ded8bc42",
   "metadata": {},
   "outputs": [
    {
     "name": "stdout",
     "output_type": "stream",
     "text": [
      "['08:17:00', '10:58:00', '12:00:00', '12:53:00', '13:10:00', '13:45:00', '14:13:00', '14:24:00', '14:26:00', '14:41:00', '15:13:00', '16:17:00', '18:00:00']\n"
     ]
    }
   ],
   "source": [
    "import datetime\n",
    "\n",
    "# assuming your original dataset is stored in a pandas dataframe called df\n",
    "# convert datetime column to datetime type\n",
    "time_line['datetime'] = pd.to_datetime(time_line['datetime'])\n",
    "\n",
    "# create empty lists for storing the dates and labels\n",
    "dates = []\n",
    "labels = []\n",
    "times = []\n",
    "# iterate over the rows of the dataframe\n",
    "for index, row in time_line.iterrows():\n",
    "    # append the date to the dates list\n",
    "    dates.append(row['datetime'].date())\n",
    "    # append the label to the labels list\n",
    "    labels.append(row['event'])\n",
    "    # print the time of the datetime\n",
    "    times.append(row['datetime'].strftime('%H:%M:%S'))\n",
    "    #print(row['datetime'].strftime('%H:%M:%S'))\n",
    "labels = ['{0:%d %b %Y}:\\n{1}'.format(d, l) for l, d in zip (labels, dates)]\n",
    "\n",
    "time_dict = {}\n",
    "for t in time:\n",
    "    time_dict[t] = True\n",
    "\n",
    "unique_time = [t for t in time_dict.keys()]\n",
    "\n",
    "print(unique_time)\n"
   ]
  },
  {
   "cell_type": "code",
   "execution_count": 58,
   "id": "4afc7d8b",
   "metadata": {},
   "outputs": [
    {
     "name": "stdout",
     "output_type": "stream",
     "text": [
      "['EVENT 1', 'EVENT 2', 'EVENT 3', 'EVENT 4', 'EVENT 5', 'EVENT 6', 'EVENT 7', 'EVENT 7', 'EVENT 8', 'EVENT 9', 'EVENT 10', 'EVENT 10', 'EVENT 11', 'EVENT 12', 'EVENT 12', 'EVENT 12', 'EVENT 12']\n"
     ]
    }
   ],
   "source": []
  },
  {
   "cell_type": "code",
   "execution_count": 88,
   "id": "2e3dbe11",
   "metadata": {},
   "outputs": [
    {
     "name": "stdout",
     "output_type": "stream",
     "text": [
      "['08:17:00', '10:58:00', '12:00:00', '12:53:00', '13:10:00', '13:45:00', '14:13:00', '14:24:00', '14:26:00', '14:41:00', '15:13:00', '16:17:00', '18:00:00']\n"
     ]
    }
   ],
   "source": []
  },
  {
   "cell_type": "code",
   "execution_count": 85,
   "id": "a0bc9f61",
   "metadata": {},
   "outputs": [
    {
     "data": {
      "text/plain": [
       "[None, None, None, None, None, None, None, None, None, None, None, None, None]"
      ]
     },
     "execution_count": 85,
     "metadata": {},
     "output_type": "execute_result"
    }
   ],
   "source": [
    "\n"
   ]
  },
  {
   "cell_type": "code",
   "execution_count": 92,
   "id": "8b8a10b9",
   "metadata": {},
   "outputs": [
    {
     "data": {
      "image/png": "[encoded data removed]",
      "text/plain": [
       "<Figure size 640x480 with 1 Axes>"
      ]
     },
     "metadata": {},
     "output_type": "display_data"
    }
   ],
   "source": [
    "import matplotlib.pyplot as plt\n",
    "import matplotlib.dates as mdates\n",
    "from datetime import datetime, timedelta\n",
    "\n",
    "\n",
    "# convert time strings to datetime objects\n",
    "datetimes = [datetime.strptime(time, '%H:%M:%S') for time in unique_time]\n",
    "\n",
    "# create figure and axis objects\n",
    "fig, ax = plt.subplots()\n",
    "\n",
    "# plot horizontal line for events\n",
    "ax.hlines(0.5, datetimes[0], datetimes[-1], color='C0')\n",
    "\n",
    "# plot time points as dots on the line\n",
    "ax.scatter(datetimes, [0.5] * len(datetimes), color='C1')\n",
    "\n",
    "# set x-axis format\n",
    "ax.xaxis.set_major_formatter(mdates.DateFormatter('%H:%M'))\n",
    "ax.set_xlim(datetime.strptime('08:00:00', '%H:%M:%S'), datetime.strptime('18:17:00', '%H:%M:%S'))\n",
    "ax.set_xlabel('Time of Day')\n",
    "\n",
    "# remove y-axis ticks and labels\n",
    "ax.set_yticks([])\n",
    "ax.set_yticklabels([])\n",
    "\n",
    "# set plot title\n",
    "ax.set_title('Timeline Plot')\n",
    "\n",
    "# display plot\n",
    "plt.show()\n"
   ]
  },
  {
   "cell_type": "code",
   "execution_count": 93,
   "id": "a29efc62",
   "metadata": {},
   "outputs": [
    {
     "data": {
      "image/png": "[encoded data removed]",
      "text/plain": [
       "<Figure size 640x480 with 1 Axes>"
      ]
     },
     "metadata": {},
     "output_type": "display_data"
    }
   ],
   "source": [
    "import matplotlib.pyplot as plt\n",
    "import matplotlib.dates as mdates\n",
    "from datetime import datetime, timedelta\n",
    "\n",
    "# map events to colors\n",
    "colors = {'EVENT 1': 'pink', 'EVENT 2': 'blue', 'EVENT 3': 'green', 'EVENT 4': 'red', 'EVENT 5': 'orange',\n",
    "          'EVENT 6': 'purple', 'EVENT 7': 'brown', 'EVENT 8': 'gray', 'EVENT 9': 'black', 'EVENT 10': 'yellow',\n",
    "          'EVENT 11': 'cyan', 'EVENT 12': 'magenta', 'EVENT 13': 'olive'}\n",
    "\n",
    "# convert time strings to datetime objects\n",
    "datetimes = [datetime.strptime(time, '%H:%M:%S') for time in unique_time]\n",
    "\n",
    "# create figure and axis objects\n",
    "fig, ax = plt.subplots()\n",
    "\n",
    "# plot horizontal line for events\n",
    "ax.hlines(0.5, datetimes[0], datetimes[-1], color='C0')\n",
    "\n",
    "# plot time points as dots on the line, with colors corresponding to events\n",
    "colors_list = [colors[event] for event in events]\n",
    "ax.scatter(datetimes, [0.5] * len(datetimes), color=colors_list)\n",
    "\n",
    "# create legend\n",
    "handles = [plt.Line2D([], [], marker='o', color=color, linestyle='', label=event) for event, color in colors.items()]\n",
    "ax.legend(handles=handles,loc='lower center', bbox_to_anchor=(0.5, 1.05),\n",
    "          ncol=3, fancybox=True, shadow=True)\n",
    "\n",
    "# set x-axis format\n",
    "ax.xaxis.set_major_formatter(mdates.DateFormatter('%H:%M'))\n",
    "ax.set_xlim(datetime.strptime('08:00:00', '%H:%M:%S'), datetime.strptime('18:17:00', '%H:%M:%S'))\n",
    "ax.set_xlabel('Time of Day')\n",
    "\n",
    "# remove y-axis ticks and labels\n",
    "ax.set_yticks([])\n",
    "ax.set_yticklabels([])\n",
    "\n",
    "# set plot title\n",
    "ax.set_title('Timeline Plot')\n",
    "\n",
    "# display plot\n",
    "plt.show()\n"
   ]
  },
  {
   "cell_type": "code",
   "execution_count": 86,
   "id": "9dc58746",
   "metadata": {},
   "outputs": [
    {
     "name": "stdout",
     "output_type": "stream",
     "text": [
      "['08:17:00', '10:58:00', '12:00:00', '12:53:00', '13:10:00', '13:45:00', '14:13:00', '14:24:00', '14:26:00', '14:41:00', '15:13:00', '16:17:00', '18:00:00']\n"
     ]
    }
   ],
   "source": [
    "\n"
   ]
  },
  {
   "cell_type": "code",
   "execution_count": null,
   "id": "98bf03ee",
   "metadata": {},
   "outputs": [],
   "source": []
  }
 ],
 "metadata": {
  "kernelspec": {
   "display_name": "Python 3 (ipykernel)",
   "language": "python",
   "name": "python3"
  },
  "language_info": {
   "codemirror_mode": {
    "name": "ipython",
    "version": 3
   },
   "file_extension": ".py",
   "mimetype": "text/x-python",
   "name": "python",
   "nbconvert_exporter": "python",
   "pygments_lexer": "ipython3",
   "version": "3.8.13"
  }
 },
 "nbformat": 4,
 "nbformat_minor": 5
}
