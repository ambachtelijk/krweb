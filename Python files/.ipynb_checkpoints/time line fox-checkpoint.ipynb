{
 "cells": [
  {
   "cell_type": "code",
   "execution_count": 1,
   "id": "78a37c6e",
   "metadata": {},
   "outputs": [],
   "source": [
    "# Import libraries \n",
    "\n",
    "#basic libraries\n",
    "import pandas as pd \n",
    "import numpy as np\n",
    "import os\n",
    "import matplotlib"
   ]
  },
  {
   "cell_type": "code",
   "execution_count": 2,
   "id": "ce125712",
   "metadata": {},
   "outputs": [
    {
     "name": "stdout",
     "output_type": "stream",
     "text": [
      "                          event             datetime  \\\n",
      "0    http://example.com/e_FOX_1  2021-01-06T10:02:00   \n",
      "1    http://example.com/e_FOX_2  2021-01-06T11:00:00   \n",
      "2    http://example.com/e_FOX_3  2021-01-06T13:10:00   \n",
      "3    http://example.com/e_FOX_4  2021-01-06T13:47:00   \n",
      "4    http://example.com/e_FOX_5  2021-01-06T14:00:00   \n",
      "5    http://example.com/e_FOX_6  2021-01-06T14:20:00   \n",
      "6    http://example.com/e_FOX_7  2021-01-06T14:40:00   \n",
      "7    http://example.com/e_FOX_8  2021-01-06T15:30:00   \n",
      "8    http://example.com/e_FOX_9  2021-01-06T15:36:00   \n",
      "9   http://example.com/e_FOX_10  2021-01-06T16:00:00   \n",
      "10  http://example.com/e_FOX_11  2021-01-06T16:10:00   \n",
      "11  http://example.com/e_FOX_12  2021-01-06T16:25:00   \n",
      "12  http://example.com/e_FOX_13  2021-01-06T17:00:00   \n",
      "13  http://example.com/e_FOX_14  2021-01-06T17:15:00   \n",
      "14  http://example.com/e_FOX_15  2021-01-06T17:30:00   \n",
      "15  http://example.com/e_FOX_16  2021-01-06T18:00:00   \n",
      "\n",
      "                             location                            description  \n",
      "0                                 NaN                                    NaN  \n",
      "1                                 NaN                                    NaN  \n",
      "2                                 NaN                                    NaN  \n",
      "3                                 NaN                                    NaN  \n",
      "4                                 NaN                                    NaN  \n",
      "5                                 NaN                                    NaN  \n",
      "6   http://example.com/CapitolRotunda                                    NaN  \n",
      "7                                 NaN                                    NaN  \n",
      "8                                 NaN                                    NaN  \n",
      "9                                 NaN                                    NaN  \n",
      "10                                NaN                                    NaN  \n",
      "11                                NaN                                    NaN  \n",
      "12                                NaN  Social media deleted video from Trump  \n",
      "13  http://example.com/CapitolGrounds                                    NaN  \n",
      "14                                NaN                                    NaN  \n",
      "15                                NaN                                    NaN  \n"
     ]
    }
   ],
   "source": [
    "time_line_fox = pd.read_csv('/Users/sandrobarreshamers/github/krweb/Query_files/time_line_fox.csv')\n",
    "print(time_line_fox)"
   ]
  },
  {
   "cell_type": "code",
   "execution_count": 3,
   "id": "f5bdc89b",
   "metadata": {},
   "outputs": [
    {
     "name": "stdout",
     "output_type": "stream",
     "text": [
      "['E FOX 1', 'E FOX 2', 'E FOX 3', 'E FOX 4', 'E FOX 5', 'E FOX 6', 'E FOX 7', 'E FOX 8', 'E FOX 9', 'E FOX 10', 'E FOX 11', 'E FOX 12', 'E FOX 13', 'E FOX 14', 'E FOX 15', 'E FOX 16']\n"
     ]
    }
   ],
   "source": [
    "# extract the events from the 'event' column and store them in a list\n",
    "events_fox = time_line_fox['event'].str.split('/').str[-1].str.upper().str.replace('_', ' ').tolist()\n",
    "\n",
    "\n",
    "time_dict = {}\n",
    "for t in events_fox:\n",
    "    time_dict[t] = True\n",
    "\n",
    "unique_event_fox = [t for t in time_dict.keys()]\n",
    "\n",
    "# print the events list\n",
    "print(unique_event_fox)"
   ]
  },
  {
   "cell_type": "code",
   "execution_count": 5,
   "id": "4da1ef03",
   "metadata": {},
   "outputs": [
    {
     "name": "stdout",
     "output_type": "stream",
     "text": [
      "['10:02:00', '11:00:00', '13:10:00', '13:47:00', '14:00:00', '14:20:00', '14:40:00', '15:30:00', '15:36:00', '16:00:00', '16:10:00', '16:25:00', '17:00:00', '17:15:00', '17:30:00', '18:00:00']\n"
     ]
    }
   ],
   "source": [
    "import datetime\n",
    "\n",
    "# assuming your original dataset is stored in a pandas dataframe called df\n",
    "# convert datetime column to datetime type\n",
    "time_line_fox['datetime'] = pd.to_datetime(time_line_fox['datetime'])\n",
    "\n",
    "# create empty lists for storing the dates and labels\n",
    "dates_fox = []\n",
    "labels_fox = []\n",
    "times_fox = []\n",
    "# iterate over the rows of the dataframe\n",
    "for index, row in time_line_fox.iterrows():\n",
    "    # append the date to the dates list\n",
    "    dates_fox.append(row['datetime'].date())\n",
    "    # append the label to the labels list\n",
    "    labels_fox.append(row['event'])\n",
    "    # print the time of the datetime\n",
    "    times_fox.append(row['datetime'].strftime('%H:%M:%S'))\n",
    "    #print(row['datetime'].strftime('%H:%M:%S'))\n",
    "labels_fox = ['{0:%d %b %Y}:\\n{1}'.format(d, l) for l, d in zip (labels_fox, dates_fox)]\n",
    "\n",
    "time_dict_fox = {}\n",
    "for t in times_fox:\n",
    "    time_dict_fox[t] = True\n",
    "\n",
    "unique_time_fox = [t for t in time_dict_fox.keys()]\n",
    "\n",
    "print(unique_time_fox)\n"
   ]
  },
  {
   "cell_type": "code",
   "execution_count": 11,
   "id": "c8146b3e",
   "metadata": {},
   "outputs": [
    {
     "data": {
      "image/png": "[encoded data removed]",
      "text/plain": [
       "<Figure size 640x480 with 1 Axes>"
      ]
     },
     "metadata": {},
     "output_type": "display_data"
    }
   ],
   "source": [
    "import matplotlib.pyplot as plt\n",
    "import matplotlib.dates as mdates\n",
    "from datetime import datetime, timedelta\n",
    "\n",
    "# map events to colors\n",
    "colors_list = []\n",
    "for event in unique_event_fox:\n",
    "    if event in colors:\n",
    "        colors_list.append(colors[event])\n",
    "    else:\n",
    "        colors_list.append('black')\n",
    "\n",
    "# convert time strings to datetime objects\n",
    "datetimes = [datetime.strptime(time, '%H:%M:%S') for time in unique_time_fox]\n",
    "\n",
    "# create figure and axis objects\n",
    "fig, ax = plt.subplots()\n",
    "\n",
    "# plot horizontal line for events\n",
    "ax.hlines(0.5, datetimes[0], datetimes[-1], color='C0')\n",
    "\n",
    "# plot time points as dots on the line, with colors corresponding to events\n",
    "colors_list = [colors[event] for event in unique_event_fox]\n",
    "ax.scatter(datetimes, [0.5] * len(datetimes), color=colors_list)\n",
    "\n",
    "# create legend\n",
    "handles = [plt.Line2D([], [], marker='o', color=color, linestyle='', label=event) for event, color in colors.items()]\n",
    "ax.legend(handles=handles,loc='lower center', bbox_to_anchor=(0.5, 1.05),\n",
    "          ncol=3, fancybox=True, shadow=True)\n",
    "\n",
    "# set x-axis format\n",
    "ax.xaxis.set_major_formatter(mdates.DateFormatter('%H:%M'))\n",
    "ax.set_xlim(datetime.strptime('09:45:00', '%H:%M:%S'), datetime.strptime('18:17:00', '%H:%M:%S'))\n",
    "ax.set_xlabel('Time of Day')\n",
    "\n",
    "# remove y-axis ticks and labels\n",
    "ax.set_yticks([])\n",
    "ax.set_yticklabels([])\n",
    "\n",
    "# set plot title\n",
    "ax.set_title('Timeline Plot')\n",
    "\n",
    "# display plot\n",
    "plt.show()\n"
   ]
  },
  {
   "cell_type": "code",
   "execution_count": null,
   "id": "db86c5c9",
   "metadata": {},
   "outputs": [],
   "source": []
  }
 ],
 "metadata": {
  "kernelspec": {
   "display_name": "Python 3 (ipykernel)",
   "language": "python",
   "name": "python3"
  },
  "language_info": {
   "codemirror_mode": {
    "name": "ipython",
    "version": 3
   },
   "file_extension": ".py",
   "mimetype": "text/x-python",
   "name": "python",
   "nbconvert_exporter": "python",
   "pygments_lexer": "ipython3",
   "version": "3.8.13"
  }
 },
 "nbformat": 4,
 "nbformat_minor": 5
}
